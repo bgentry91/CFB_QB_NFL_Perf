{
 "cells": [
  {
   "cell_type": "code",
   "execution_count": 107,
   "metadata": {
    "ExecuteTime": {
     "end_time": "2018-01-19T22:55:57.856572Z",
     "start_time": "2018-01-19T22:55:57.834468Z"
    },
    "collapsed": true
   },
   "outputs": [],
   "source": [
    "import pandas as pd\n",
    "import numpy as np\n",
    "import matplotlib.pyplot as plt\n",
    "import seaborn as sns\n",
    "import string\n",
    "\n",
    "%matplotlib inline"
   ]
  },
  {
   "cell_type": "code",
   "execution_count": 108,
   "metadata": {
    "ExecuteTime": {
     "end_time": "2018-01-19T22:55:58.133278Z",
     "start_time": "2018-01-19T22:55:58.123117Z"
    },
    "collapsed": true
   },
   "outputs": [],
   "source": [
    "pd.set_option('display.height', 1000)\n",
    "pd.set_option('display.max_rows', 500)\n",
    "pd.set_option('display.max_columns', 500)\n",
    "pd.set_option('display.width', 1000)"
   ]
  },
  {
   "cell_type": "markdown",
   "metadata": {},
   "source": [
    "# Cleaning CFB Stats (scraped), calculating some features, creating timeseries features\n",
    "* Data comes from two csvs - scraped passing and scraped rushing/receiving yards\n",
    "* All CFB players must play at least two years\n",
    "    * Get last two years of stats, plus the difference betwen the two\n",
    "* Clean up NaN values as required to zero in stats fields\n",
    "* Calculate player total games"
   ]
  },
  {
   "cell_type": "code",
   "execution_count": 109,
   "metadata": {
    "ExecuteTime": {
     "end_time": "2018-01-19T22:55:58.347475Z",
     "start_time": "2018-01-19T22:55:58.322454Z"
    },
    "collapsed": true
   },
   "outputs": [],
   "source": [
    "df_pass = pd.read_csv('cfb_qb_passing.csv')"
   ]
  },
  {
   "cell_type": "code",
   "execution_count": 110,
   "metadata": {
    "ExecuteTime": {
     "end_time": "2018-01-19T22:55:58.498303Z",
     "start_time": "2018-01-19T22:55:58.488050Z"
    },
    "collapsed": true
   },
   "outputs": [],
   "source": [
    "del df_pass['Unnamed: 0']\n",
    "del df_pass['adj_pass_yds_per_att']\n",
    "del df_pass['pass_cmp_pct']\n",
    "del df_pass['pass_rating']\n",
    "del df_pass['pass_yds_per_att']\n",
    "del df_pass['class']\n"
   ]
  },
  {
   "cell_type": "code",
   "execution_count": 111,
   "metadata": {
    "ExecuteTime": {
     "end_time": "2018-01-19T22:55:58.723316Z",
     "start_time": "2018-01-19T22:55:58.663894Z"
    },
    "collapsed": true
   },
   "outputs": [],
   "source": [
    "# clean up years\n",
    "df_pass['year_id'] = df_pass.apply(lambda x: int(x['year_id'].replace('*','')), axis=1)\n",
    "\n",
    "#clean up NaN\n",
    "df_pass.fillna(0,inplace=True)"
   ]
  },
  {
   "cell_type": "code",
   "execution_count": 112,
   "metadata": {
    "ExecuteTime": {
     "end_time": "2018-01-19T22:55:58.819797Z",
     "start_time": "2018-01-19T22:55:58.804196Z"
    },
    "collapsed": true
   },
   "outputs": [],
   "source": [
    "#get school graduated from, grad year, # years\n",
    "df_grad = df_pass.groupby('player', as_index=False).agg({'year_id':'max', 'pos':'count'})\n",
    "\n",
    "df_grad.rename(columns={'pos': 'years'}, inplace=True)"
   ]
  },
  {
   "cell_type": "code",
   "execution_count": 113,
   "metadata": {
    "ExecuteTime": {
     "end_time": "2018-01-19T22:55:58.973418Z",
     "start_time": "2018-01-19T22:55:58.959613Z"
    },
    "collapsed": true
   },
   "outputs": [],
   "source": [
    "# get CFB player last year stats\n",
    "df_pass_last = df_pass.merge(df_grad, on = ['player','year_id'])\n",
    "\n",
    "del df_pass_last['pos']\n"
   ]
  },
  {
   "cell_type": "code",
   "execution_count": 114,
   "metadata": {
    "ExecuteTime": {
     "end_time": "2018-01-19T22:55:59.116376Z",
     "start_time": "2018-01-19T22:55:59.106475Z"
    },
    "collapsed": true
   },
   "outputs": [],
   "source": [
    "#get cfb player total games\n",
    "df_cfb_games = df_pass.groupby('player', as_index=False)['g'].sum()\n",
    "df_cfb_games.rename(columns={'g':'cfb_games'},inplace=True)"
   ]
  },
  {
   "cell_type": "code",
   "execution_count": 115,
   "metadata": {
    "ExecuteTime": {
     "end_time": "2018-01-19T22:55:59.267336Z",
     "start_time": "2018-01-19T22:55:59.243511Z"
    },
    "collapsed": true,
    "run_control": {
     "marked": false
    }
   },
   "outputs": [],
   "source": [
    "# import rushing data\n",
    "df_rush = pd.read_csv('cfb_qb_rushing.csv')"
   ]
  },
  {
   "cell_type": "code",
   "execution_count": 116,
   "metadata": {
    "ExecuteTime": {
     "end_time": "2018-01-19T22:55:59.458064Z",
     "start_time": "2018-01-19T22:55:59.396786Z"
    },
    "collapsed": true
   },
   "outputs": [],
   "source": [
    "cols_to_save = [4,5,6,7,8,9,10,11,12,19]\n",
    "df_rushc = df_rush.iloc[:,cols_to_save].copy()\n",
    "del df_rushc['pos']\n",
    "del df_rushc['rec_yds_per_rec']\n",
    "df_rushc.fillna(0,inplace=True)\n",
    "df_rushc['year_id'] = df_rushc.apply(lambda x: int(x['year_id'].replace('*','')), axis=1)"
   ]
  },
  {
   "cell_type": "code",
   "execution_count": 117,
   "metadata": {
    "ExecuteTime": {
     "end_time": "2018-01-19T22:55:59.569950Z",
     "start_time": "2018-01-19T22:55:59.549953Z"
    },
    "collapsed": true,
    "run_control": {
     "marked": false
    }
   },
   "outputs": [],
   "source": [
    "#combine all the dataframes\n",
    "df_comb = df_pass_last.merge(df_rushc, how='left', on=['player','year_id'])\n",
    "df_comb = df_comb.merge(df_cfb_games, on='player')\n",
    "del df_comb['g']"
   ]
  },
  {
   "cell_type": "code",
   "execution_count": 118,
   "metadata": {
    "ExecuteTime": {
     "end_time": "2018-01-19T22:55:59.708992Z",
     "start_time": "2018-01-19T22:55:59.699390Z"
    },
    "collapsed": true
   },
   "outputs": [],
   "source": [
    "df_comb.fillna(0, inplace=True)"
   ]
  },
  {
   "cell_type": "code",
   "execution_count": 119,
   "metadata": {
    "ExecuteTime": {
     "end_time": "2018-01-19T22:55:59.855297Z",
     "start_time": "2018-01-19T22:55:59.841242Z"
    },
    "collapsed": true
   },
   "outputs": [],
   "source": [
    "# pickle\n",
    "import pickle\n",
    "\n",
    "with open('cfb_grad_stats.pkl', 'wb') as picklefile:\n",
    "    pickle.dump(df_comb, picklefile)"
   ]
  },
  {
   "cell_type": "code",
   "execution_count": 120,
   "metadata": {
    "ExecuteTime": {
     "end_time": "2018-01-19T22:55:59.997499Z",
     "start_time": "2018-01-19T22:55:59.992094Z"
    },
    "collapsed": true
   },
   "outputs": [],
   "source": [
    "# only players that have played >2 years\n",
    "df_2yr_p = df_grad[df_grad.years > 1]"
   ]
  },
  {
   "cell_type": "code",
   "execution_count": 121,
   "metadata": {
    "ExecuteTime": {
     "end_time": "2018-01-19T22:56:00.185346Z",
     "start_time": "2018-01-19T22:56:00.160270Z"
    },
    "collapsed": true
   },
   "outputs": [],
   "source": [
    "# getting only players that have played >2 years\n",
    "# left join to show NaNs(will remove if not NaN (i.e. remove  grad year))\n",
    "# get 2nd to last year\n",
    "# maybe we could have subtracted 1 from grad year, but that feels dangerous to me\n",
    "df_pass_2yr = df_pass.merge(df_2yr_p, on='player')\n",
    "df_NaNs = df_pass_2yr.merge(df_2yr_p, left_on=['player','year_id_x'], right_on=['player','year_id'], how='left')\n",
    "df_NaNs = df_NaNs[pd.isnull(df_NaNs.year_id)]\n",
    "df_2nd = df_NaNs.groupby('player', as_index=False).agg({'year_id_x':'max'})"
   ]
  },
  {
   "cell_type": "code",
   "execution_count": 122,
   "metadata": {
    "ExecuteTime": {
     "end_time": "2018-01-19T22:56:00.340167Z",
     "start_time": "2018-01-19T22:56:00.322527Z"
    },
    "collapsed": true
   },
   "outputs": [],
   "source": [
    "# get second year passing stats\n",
    "df_pass_2nd = df_pass.merge(df_2nd, left_on = ['player','year_id'], right_on = ['player','year_id_x'])\n",
    "\n",
    "del df_pass_2nd['conf_abbr']\n",
    "del df_pass_2nd['g']\n",
    "del df_pass_2nd['pos']\n",
    "del df_pass_2nd['school_name']\n",
    "del df_pass_2nd['year_id']\n",
    "del df_pass_2nd['year_id_x']\n",
    "\n",
    "# change column names for 2nd year\n",
    "df_pass_2nd.columns = df_pass_2nd.columns + \"_2\"\n"
   ]
  },
  {
   "cell_type": "code",
   "execution_count": 123,
   "metadata": {
    "ExecuteTime": {
     "end_time": "2018-01-19T22:56:00.515521Z",
     "start_time": "2018-01-19T22:56:00.501438Z"
    },
    "collapsed": true
   },
   "outputs": [],
   "source": [
    "# get second year rushing stats\n",
    "df_rush_2nd = df_rushc.merge(df_2nd, left_on = ['player','year_id'], right_on = ['player','year_id_x'])\n",
    "\n",
    "del df_rush_2nd['year_id']\n",
    "del df_rush_2nd['year_id_x']\n",
    "\n",
    "# change column names for 2nd year\n",
    "df_rush_2nd.columns = df_rush_2nd.columns + \"_2\""
   ]
  },
  {
   "cell_type": "code",
   "execution_count": 125,
   "metadata": {
    "ExecuteTime": {
     "end_time": "2018-01-19T22:56:00.986896Z",
     "start_time": "2018-01-19T22:56:00.976574Z"
    },
    "collapsed": true
   },
   "outputs": [],
   "source": [
    "#combine 2nd year rushing & passsing\n",
    "\n",
    "df_2nd = df_rush_2nd.merge(df_pass_2nd, on='player_2')"
   ]
  },
  {
   "cell_type": "code",
   "execution_count": 126,
   "metadata": {
    "ExecuteTime": {
     "end_time": "2018-01-19T22:56:01.001392Z",
     "start_time": "2018-01-19T22:56:00.989450Z"
    },
    "collapsed": true,
    "run_control": {
     "marked": false
    }
   },
   "outputs": [],
   "source": [
    "# combine 2nd year rushing and passing w/ other data\n",
    "df_comb = df_comb.merge(df_2nd, left_on = 'player', right_on = 'player_2')\n",
    "del df_comb['player_2']"
   ]
  },
  {
   "cell_type": "code",
   "execution_count": 128,
   "metadata": {
    "ExecuteTime": {
     "end_time": "2018-01-19T22:56:02.387473Z",
     "start_time": "2018-01-19T22:56:02.081591Z"
    },
    "collapsed": true
   },
   "outputs": [],
   "source": [
    "#calculate difference between 1st and 2nd year\n",
    "cols_to_calc = ['pass_att', 'pass_cmp', 'pass_int', 'pass_td', 'pass_yds',\n",
    "               'rec', 'rec_td', 'rec_yds', 'rush_att', 'rush_td', 'rush_yds']\n",
    "\n",
    "for col in cols_to_calc:\n",
    "    df_comb[col + '_diff'] = df_comb.apply(lambda x: x[col] - x[col + '_2'], axis=1)"
   ]
  },
  {
   "cell_type": "code",
   "execution_count": 132,
   "metadata": {
    "ExecuteTime": {
     "end_time": "2018-01-19T22:57:35.547164Z",
     "start_time": "2018-01-19T22:57:35.541246Z"
    },
    "collapsed": true
   },
   "outputs": [],
   "source": [
    "with open('cfb_grad_stats_2yr.pkl', 'wb') as picklefile:\n",
    "    pickle.dump(df_comb, picklefile)"
   ]
  },
  {
   "cell_type": "code",
   "execution_count": null,
   "metadata": {
    "collapsed": true
   },
   "outputs": [],
   "source": []
  }
 ],
 "metadata": {
  "kernelspec": {
   "display_name": "Python 3",
   "language": "python",
   "name": "python3"
  },
  "language_info": {
   "codemirror_mode": {
    "name": "ipython",
    "version": 3
   },
   "file_extension": ".py",
   "mimetype": "text/x-python",
   "name": "python",
   "nbconvert_exporter": "python",
   "pygments_lexer": "ipython3",
   "version": "3.6.4"
  }
 },
 "nbformat": 4,
 "nbformat_minor": 2
}
