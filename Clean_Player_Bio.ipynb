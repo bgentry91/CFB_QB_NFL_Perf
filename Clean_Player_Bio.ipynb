{
 "cells": [
  {
   "cell_type": "code",
   "execution_count": 1,
   "metadata": {
    "ExecuteTime": {
     "end_time": "2018-01-18T19:33:32.467164Z",
     "start_time": "2018-01-18T19:33:29.271419Z"
    },
    "collapsed": true
   },
   "outputs": [],
   "source": [
    "import pandas as pd\n",
    "import numpy as np\n",
    "import matplotlib.pyplot as plt\n",
    "import seaborn as sns\n",
    "import pickle\n",
    "    \n",
    "%matplotlib inline"
   ]
  },
  {
   "cell_type": "markdown",
   "metadata": {},
   "source": [
    "# Cleaning player bio info & pickling for later\n",
    "* Deleting bad top records from Scrapy\n",
    "* Scrapy script got lots of unicode/formatting characters, cleaning those up\n",
    "    * Height\n",
    "    * Throws With\n",
    "    * Weight\n",
    "    * Home City\n",
    "* Home state must be 2 letters"
   ]
  },
  {
   "cell_type": "code",
   "execution_count": 209,
   "metadata": {
    "ExecuteTime": {
     "end_time": "2018-01-18T23:38:19.217817Z",
     "start_time": "2018-01-18T23:38:19.200981Z"
    },
    "collapsed": true
   },
   "outputs": [],
   "source": [
    "# import csv\n",
    "df_bio = pd.read_csv('player_f.csv')"
   ]
  },
  {
   "cell_type": "code",
   "execution_count": 210,
   "metadata": {
    "ExecuteTime": {
     "end_time": "2018-01-18T23:38:19.471275Z",
     "start_time": "2018-01-18T23:38:19.465365Z"
    },
    "collapsed": true
   },
   "outputs": [],
   "source": [
    "# cleanup weird recs\n",
    "df_bio = df_bio.iloc[2:].copy()"
   ]
  },
  {
   "cell_type": "code",
   "execution_count": 211,
   "metadata": {
    "ExecuteTime": {
     "end_time": "2018-01-18T23:38:19.789646Z",
     "start_time": "2018-01-18T23:38:19.750065Z"
    },
    "collapsed": true
   },
   "outputs": [],
   "source": [
    "# cleanup weight\n",
    "df_bio.iloc[672,3] = None\n",
    "df_bio['weight'] = df_bio.apply(lambda x: x['weight'][:3] \n",
    "                                if x['weight'] is not None \n",
    "                                else x['weight'], axis = 1)"
   ]
  },
  {
   "cell_type": "code",
   "execution_count": 212,
   "metadata": {
    "ExecuteTime": {
     "end_time": "2018-01-18T23:38:20.106775Z",
     "start_time": "2018-01-18T23:38:20.005892Z"
    },
    "collapsed": true
   },
   "outputs": [],
   "source": [
    "# cleanup height\n",
    "df_bio.height = df_bio.apply(lambda x: None if x['height'] == '\\n\\t\\t' else x['height'], axis=1)\n",
    "\n",
    "df_bio.height = df_bio.apply(lambda x: int(x['height'][:1]) * 12 + int(x['height'][2:len(x['height'])]) \n",
    "                             if x['height'] is not None\n",
    "                             else x['height'],\n",
    "                            axis = 1)"
   ]
  },
  {
   "cell_type": "code",
   "execution_count": 213,
   "metadata": {
    "ExecuteTime": {
     "end_time": "2018-01-18T23:38:21.067705Z",
     "start_time": "2018-01-18T23:38:21.007555Z"
    },
    "collapsed": true
   },
   "outputs": [],
   "source": [
    "# cleanup throws\n",
    "throws_bad = [',\\xa0','\\n  ','\\xa0(196cm,\\xa099kg) ' ]\n",
    "df_bio.throws = df_bio.apply(lambda x: None \n",
    "                             if x['throws'] in throws_bad \n",
    "                             else x['throws'], axis = 1)\n",
    "\n",
    "def throws_clean(x):\n",
    "    if x == '\\n\\t\\tRight\\n\\t\\n':\n",
    "        return 'Right'\n",
    "    elif x == '\\n\\t\\tLeft\\n\\t\\n':\n",
    "        return 'Left'\n",
    "    else:\n",
    "        return x\n",
    "\n",
    "df_bio.throws = df_bio.apply(lambda x: throws_clean(x['throws']), axis =1 )"
   ]
  },
  {
   "cell_type": "code",
   "execution_count": 214,
   "metadata": {
    "ExecuteTime": {
     "end_time": "2018-01-18T23:38:21.577468Z",
     "start_time": "2018-01-18T23:38:21.543102Z"
    },
    "collapsed": true
   },
   "outputs": [],
   "source": [
    "# clean home state\n",
    "df_bio.home_state = df_bio.apply(lambda x: None \n",
    "                                 if len(x['home_state']) != 2 \n",
    "                                 else x['home_state'], axis=1)"
   ]
  },
  {
   "cell_type": "code",
   "execution_count": 215,
   "metadata": {
    "ExecuteTime": {
     "end_time": "2018-01-18T23:38:22.006224Z",
     "start_time": "2018-01-18T23:38:21.848764Z"
    },
    "collapsed": true,
    "run_control": {
     "marked": false
    }
   },
   "outputs": [],
   "source": [
    "# clean city - unicode = :-(\n",
    "def clean_city(x):\n",
    "    import string\n",
    "    printable = set(string.printable)\n",
    "    a =[s for s in x if s in printable]\n",
    "    b = ''.join(a)\n",
    "    return b\n",
    "\n",
    "df_bio.home_city = df_bio.apply(lambda x: clean_city(x['home_city']), axis = 1)\n",
    "df_bio.home_city = df_bio.apply(lambda x: x['home_city'].strip(), axis = 1)\n",
    "df_bio.home_city = df_bio.apply(lambda x: x['home_city'][:len(x['home_city'])-1] \n",
    "                                if x['home_city'][-1:] == ',' \n",
    "                                else x['home_city'],\n",
    "                                axis = 1)\n",
    "df_bio.home_city = df_bio.apply(lambda x: x['home_city'][2:] \n",
    "                                if x['home_city'][:2] == 'in' \n",
    "                                else None,\n",
    "                                axis = 1)\n"
   ]
  },
  {
   "cell_type": "code",
   "execution_count": 228,
   "metadata": {
    "ExecuteTime": {
     "end_time": "2018-01-18T23:45:00.719797Z",
     "start_time": "2018-01-18T23:45:00.704011Z"
    },
    "collapsed": true
   },
   "outputs": [],
   "source": [
    "# pickle\n",
    "with open('player_bio.pkl', 'wb') as picklefile:\n",
    "    pickle.dump(df_bio, picklefile)"
   ]
  }
 ],
 "metadata": {
  "kernelspec": {
   "display_name": "Python 3",
   "language": "python",
   "name": "python3"
  },
  "language_info": {
   "codemirror_mode": {
    "name": "ipython",
    "version": 3
   },
   "file_extension": ".py",
   "mimetype": "text/x-python",
   "name": "python",
   "nbconvert_exporter": "python",
   "pygments_lexer": "ipython3",
   "version": "3.6.4"
  }
 },
 "nbformat": 4,
 "nbformat_minor": 2
}
