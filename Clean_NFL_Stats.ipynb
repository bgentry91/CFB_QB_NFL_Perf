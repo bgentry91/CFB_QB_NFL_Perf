{
 "cells": [
  {
   "cell_type": "code",
   "execution_count": 1,
   "metadata": {
    "ExecuteTime": {
     "end_time": "2018-01-28T14:39:23.182637Z",
     "start_time": "2018-01-28T14:39:19.860398Z"
    },
    "collapsed": true
   },
   "outputs": [],
   "source": [
    "import pandas as pd\n",
    "import numpy as np\n",
    "import matplotlib.pyplot as plt\n",
    "import seaborn as sns\n",
    "import pickle\n",
    "\n",
    "%matplotlib inline"
   ]
  },
  {
   "cell_type": "markdown",
   "metadata": {},
   "source": [
    "# Cleaning NFL stats\n",
    "* For scraping & generating CSV, see Scraping.ipynb"
   ]
  },
  {
   "cell_type": "code",
   "execution_count": 3,
   "metadata": {
    "ExecuteTime": {
     "end_time": "2018-01-28T14:39:35.055819Z",
     "start_time": "2018-01-28T14:39:35.017641Z"
    }
   },
   "outputs": [],
   "source": [
    "df_stats = pd.read_csv(\"nfl_stats.csv\")"
   ]
  },
  {
   "cell_type": "code",
   "execution_count": 4,
   "metadata": {
    "ExecuteTime": {
     "end_time": "2018-01-28T14:39:36.249015Z",
     "start_time": "2018-01-28T14:39:36.230911Z"
    },
    "collapsed": true
   },
   "outputs": [],
   "source": [
    "# clean up null values in games\n",
    "df_stats.games.fillna(0, inplace=True)"
   ]
  },
  {
   "cell_type": "code",
   "execution_count": 5,
   "metadata": {
    "ExecuteTime": {
     "end_time": "2018-01-28T14:39:36.502473Z",
     "start_time": "2018-01-28T14:39:36.499132Z"
    },
    "collapsed": true,
    "run_control": {
     "marked": false
    }
   },
   "outputs": [],
   "source": [
    "# get first season for player with > 10 games, if none > 10 games, get their first season\n",
    "# would like to also get # seasons before 10 games"
   ]
  },
  {
   "cell_type": "markdown",
   "metadata": {},
   "source": [
    "### Determining First Year Passer rating\n",
    "* Find first 10 game season if exists\n",
    "* If no 10 game season, then get first season\n",
    "* Also calculating years to 10 games as a feature\n",
    "* Calculate passer rating using NFL formula [Wiki](https://en.wikipedia.org/wiki/Passer_rating)"
   ]
  },
  {
   "cell_type": "code",
   "execution_count": 6,
   "metadata": {
    "ExecuteTime": {
     "end_time": "2018-01-28T14:39:37.356081Z",
     "start_time": "2018-01-28T14:39:37.314346Z"
    },
    "collapsed": true
   },
   "outputs": [],
   "source": [
    "# get first 10 year season\n",
    "df_gt_10= df_stats[df_stats.games >= 10].copy()\n",
    "df_gt_10.sort_values(['player','year'], inplace = True)\n",
    "df_first_10 = df_gt_10.groupby('player')['year'].min().reset_index()\n",
    "df_first_10 = df_first_10.rename(columns={'year': 'first_10'})\n"
   ]
  },
  {
   "cell_type": "code",
   "execution_count": 7,
   "metadata": {
    "ExecuteTime": {
     "end_time": "2018-01-28T14:39:37.623556Z",
     "start_time": "2018-01-28T14:39:37.607068Z"
    },
    "collapsed": true
   },
   "outputs": [],
   "source": [
    "# get first\n",
    "df_first = df_stats.sort_values(['player','year']).copy()\n",
    "df_first = df_first.groupby('player')['year'].min().reset_index()\n",
    "df_first = df_first.rename(columns={'year': 'first_year'})"
   ]
  },
  {
   "cell_type": "code",
   "execution_count": 8,
   "metadata": {
    "ExecuteTime": {
     "end_time": "2018-01-28T14:39:37.917307Z",
     "start_time": "2018-01-28T14:39:37.893271Z"
    },
    "collapsed": true
   },
   "outputs": [],
   "source": [
    "# merge 1st season and 10 season\n",
    "df_years = df_first.merge(df_first_10, how='left', on='player')"
   ]
  },
  {
   "cell_type": "code",
   "execution_count": 9,
   "metadata": {
    "ExecuteTime": {
     "end_time": "2018-01-28T14:39:38.295605Z",
     "start_time": "2018-01-28T14:39:38.214285Z"
    },
    "collapsed": true
   },
   "outputs": [],
   "source": [
    "# calculate years to 10 year (if no 10 year, then 0)\n",
    "df_years['year'] = df_years.apply(lambda x: x['first_year']\n",
    "                                  if pd.isnull(x['first_10']) \n",
    "                                  else x['first_10'], \n",
    "                                  axis=1)\n",
    "df_years['years_to_10'] = df_years.apply(lambda x: x['year'] - x['first_year'], axis = 1)\n",
    "del df_years['first_year']\n",
    "del df_years['first_10']"
   ]
  },
  {
   "cell_type": "code",
   "execution_count": 10,
   "metadata": {
    "ExecuteTime": {
     "end_time": "2018-01-28T14:39:38.755852Z",
     "start_time": "2018-01-28T14:39:38.740322Z"
    },
    "collapsed": true
   },
   "outputs": [],
   "source": [
    "# merge with OG dataframe to get stats for first 10-year\n",
    "df_nfl_year1 = df_stats.merge(df_years, left_on = ['player','year'], right_on =['player','year'])"
   ]
  },
  {
   "cell_type": "code",
   "execution_count": 13,
   "metadata": {
    "ExecuteTime": {
     "end_time": "2018-01-28T14:43:09.173684Z",
     "start_time": "2018-01-28T14:43:09.156903Z"
    }
   },
   "outputs": [],
   "source": [
    "# calculate passer rating for 1st year\n",
    "def passer_rating(comp, att, yds, td, intc):\n",
    "    if att == 0:\n",
    "        rating = 0\n",
    "    else:\n",
    "        a = (comp/att - .3) * 5\n",
    "        a = a if a > 0 else 0\n",
    "        a = a if a < 2.375 else 2.375\n",
    "        b = (yds/att - 3) * .25\n",
    "        b = b if b > 0 else 0\n",
    "        b = b if b < 2.375 else 2.375\n",
    "        c = td/att * 20\n",
    "        c = c if c > 0 else 0\n",
    "        c = c if c < 2.375 else 2.375\n",
    "        d = 2.375 - (intc/att * 25)\n",
    "        d = d if d > 0 else 0\n",
    "        d = d if d < 2.375 else 2.375\n",
    "        rating = (a+b+c+d)/6*100\n",
    "    return rating\n",
    "\n",
    "df_nfl_year1['passer_rating'] = df_nfl_year1.apply(lambda x: \n",
    "                                                passer_rating(\n",
    "                                                 x['pass_cmp'],\n",
    "                                                 x['pass_att'],\n",
    "                                                 x['pass_yds'],\n",
    "                                                 x['pass_td'],\n",
    "                                                 x['pass_int']),\n",
    "                                               axis=1)\n",
    "    "
   ]
  },
  {
   "cell_type": "code",
   "execution_count": 54,
   "metadata": {
    "ExecuteTime": {
     "end_time": "2018-01-19T17:08:11.279645Z",
     "start_time": "2018-01-19T17:08:11.262736Z"
    },
    "collapsed": true
   },
   "outputs": [],
   "source": [
    "# pickle\n",
    "import pickle\n",
    "\n",
    "with open('nfl_year1.pkl', 'wb') as picklefile:\n",
    "    pickle.dump(df_nfl_year1, picklefile)"
   ]
  },
  {
   "cell_type": "code",
   "execution_count": 14,
   "metadata": {
    "ExecuteTime": {
     "end_time": "2018-01-28T14:43:20.126519Z",
     "start_time": "2018-01-28T14:43:20.121793Z"
    }
   },
   "outputs": [],
   "source": [
    "df_nfl_year1.head(5)"
   ]
  },
  {
   "cell_type": "code",
   "execution_count": null,
   "metadata": {
    "collapsed": true
   },
   "outputs": [],
   "source": []
  }
 ],
 "metadata": {
  "kernelspec": {
   "display_name": "Python 3",
   "language": "python",
   "name": "python3"
  },
  "language_info": {
   "codemirror_mode": {
    "name": "ipython",
    "version": 3
   },
   "file_extension": ".py",
   "mimetype": "text/x-python",
   "name": "python",
   "nbconvert_exporter": "python",
   "pygments_lexer": "ipython3",
   "version": "3.6.4"
  }
 },
 "nbformat": 4,
 "nbformat_minor": 2
}
